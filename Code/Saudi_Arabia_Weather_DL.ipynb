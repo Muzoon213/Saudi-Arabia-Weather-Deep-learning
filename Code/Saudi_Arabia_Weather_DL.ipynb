{
  "nbformat": 4,
  "nbformat_minor": 0,
  "metadata": {
    "colab": {
      "name": "Saudi Arabia Weather-DL.ipynb",
      "provenance": []
    },
    "kernelspec": {
      "name": "python3",
      "display_name": "Python 3"
    },
    "language_info": {
      "name": "python"
    },
    "accelerator": "GPU"
  },
  "cells": [
    {
      "cell_type": "markdown",
      "source": [
        " ## Import the libraries\n",
        "\n",
        " ---"
      ],
      "metadata": {
        "id": "5c6e4DTXLMFS"
      }
    },
    {
      "cell_type": "code",
      "execution_count": 1,
      "metadata": {
        "id": "VZ4qedFjHot0"
      },
      "outputs": [],
      "source": [
        "import pandas as pd\n",
        "import numpy as np\n",
        "import matplotlib.pyplot as  plt\n",
        "import seaborn as sns\n",
        "from tensorflow.keras.layers import Dense,RepeatVector, LSTM, Dropout\n",
        "from tensorflow.keras.layers import Flatten, Conv1D, MaxPooling1D\n",
        "from tensorflow.keras.layers import Bidirectional, Dropout\n",
        "from tensorflow.keras.models import Sequential\n",
        "from tensorflow.keras.utils import plot_model"
      ]
    },
    {
      "cell_type": "markdown",
      "source": [
        "## Loading the data\n",
        "\n",
        "---"
      ],
      "metadata": {
        "id": "H4LJU7GMLSo8"
      }
    },
    {
      "cell_type": "code",
      "source": [
        "df = pd.read_csv('/content/weather-sa-2017-2019-clean.csv')\n",
        "df.shape"
      ],
      "metadata": {
        "colab": {
          "base_uri": "https://localhost:8080/"
        },
        "id": "QV2FDZVVIIAk",
        "outputId": "1c83e012-851a-497c-a0bd-0c39d1474252"
      },
      "execution_count": 2,
      "outputs": [
        {
          "output_type": "execute_result",
          "data": {
            "text/plain": [
              "(249023, 15)"
            ]
          },
          "metadata": {},
          "execution_count": 2
        }
      ]
    },
    {
      "cell_type": "code",
      "source": [
        "df.head()"
      ],
      "metadata": {
        "colab": {
          "base_uri": "https://localhost:8080/",
          "height": 250
        },
        "id": "bIguxBZ5IIEn",
        "outputId": "00667c57-848e-4a88-df4b-4fefe51767bc"
      },
      "execution_count": 3,
      "outputs": [
        {
          "output_type": "execute_result",
          "data": {
            "text/html": [
              "\n",
              "  <div id=\"df-97c7780c-6f67-4ae9-938e-6543d747fa4e\">\n",
              "    <div class=\"colab-df-container\">\n",
              "      <div>\n",
              "<style scoped>\n",
              "    .dataframe tbody tr th:only-of-type {\n",
              "        vertical-align: middle;\n",
              "    }\n",
              "\n",
              "    .dataframe tbody tr th {\n",
              "        vertical-align: top;\n",
              "    }\n",
              "\n",
              "    .dataframe thead th {\n",
              "        text-align: right;\n",
              "    }\n",
              "</style>\n",
              "<table border=\"1\" class=\"dataframe\">\n",
              "  <thead>\n",
              "    <tr style=\"text-align: right;\">\n",
              "      <th></th>\n",
              "      <th>Unnamed: 0</th>\n",
              "      <th>city</th>\n",
              "      <th>date</th>\n",
              "      <th>time</th>\n",
              "      <th>year</th>\n",
              "      <th>month</th>\n",
              "      <th>day</th>\n",
              "      <th>hour</th>\n",
              "      <th>minute</th>\n",
              "      <th>weather</th>\n",
              "      <th>temp</th>\n",
              "      <th>wind</th>\n",
              "      <th>humidity</th>\n",
              "      <th>barometer</th>\n",
              "      <th>visibility</th>\n",
              "    </tr>\n",
              "  </thead>\n",
              "  <tbody>\n",
              "    <tr>\n",
              "      <th>0</th>\n",
              "      <td>0</td>\n",
              "      <td>Qassim</td>\n",
              "      <td>1 January 2017</td>\n",
              "      <td>00:00</td>\n",
              "      <td>2017</td>\n",
              "      <td>1</td>\n",
              "      <td>1</td>\n",
              "      <td>24</td>\n",
              "      <td>0</td>\n",
              "      <td>Clear</td>\n",
              "      <td>17</td>\n",
              "      <td>11</td>\n",
              "      <td>64%</td>\n",
              "      <td>1018.0</td>\n",
              "      <td>16</td>\n",
              "    </tr>\n",
              "    <tr>\n",
              "      <th>1</th>\n",
              "      <td>1</td>\n",
              "      <td>Qassim</td>\n",
              "      <td>1 January 2017</td>\n",
              "      <td>01:00</td>\n",
              "      <td>2017</td>\n",
              "      <td>1</td>\n",
              "      <td>1</td>\n",
              "      <td>1</td>\n",
              "      <td>0</td>\n",
              "      <td>Clear</td>\n",
              "      <td>17</td>\n",
              "      <td>6</td>\n",
              "      <td>64%</td>\n",
              "      <td>1018.0</td>\n",
              "      <td>16</td>\n",
              "    </tr>\n",
              "    <tr>\n",
              "      <th>2</th>\n",
              "      <td>2</td>\n",
              "      <td>Qassim</td>\n",
              "      <td>1 January 2017</td>\n",
              "      <td>03:00</td>\n",
              "      <td>2017</td>\n",
              "      <td>1</td>\n",
              "      <td>1</td>\n",
              "      <td>3</td>\n",
              "      <td>0</td>\n",
              "      <td>Clear</td>\n",
              "      <td>15</td>\n",
              "      <td>11</td>\n",
              "      <td>72%</td>\n",
              "      <td>1019.0</td>\n",
              "      <td>16</td>\n",
              "    </tr>\n",
              "    <tr>\n",
              "      <th>3</th>\n",
              "      <td>3</td>\n",
              "      <td>Qassim</td>\n",
              "      <td>1 January 2017</td>\n",
              "      <td>04:00</td>\n",
              "      <td>2017</td>\n",
              "      <td>1</td>\n",
              "      <td>1</td>\n",
              "      <td>4</td>\n",
              "      <td>0</td>\n",
              "      <td>Clear</td>\n",
              "      <td>15</td>\n",
              "      <td>11</td>\n",
              "      <td>72%</td>\n",
              "      <td>1019.0</td>\n",
              "      <td>16</td>\n",
              "    </tr>\n",
              "    <tr>\n",
              "      <th>4</th>\n",
              "      <td>4</td>\n",
              "      <td>Qassim</td>\n",
              "      <td>1 January 2017</td>\n",
              "      <td>05:00</td>\n",
              "      <td>2017</td>\n",
              "      <td>1</td>\n",
              "      <td>1</td>\n",
              "      <td>5</td>\n",
              "      <td>0</td>\n",
              "      <td>Clear</td>\n",
              "      <td>15</td>\n",
              "      <td>9</td>\n",
              "      <td>72%</td>\n",
              "      <td>1019.0</td>\n",
              "      <td>16</td>\n",
              "    </tr>\n",
              "  </tbody>\n",
              "</table>\n",
              "</div>\n",
              "      <button class=\"colab-df-convert\" onclick=\"convertToInteractive('df-97c7780c-6f67-4ae9-938e-6543d747fa4e')\"\n",
              "              title=\"Convert this dataframe to an interactive table.\"\n",
              "              style=\"display:none;\">\n",
              "        \n",
              "  <svg xmlns=\"http://www.w3.org/2000/svg\" height=\"24px\"viewBox=\"0 0 24 24\"\n",
              "       width=\"24px\">\n",
              "    <path d=\"M0 0h24v24H0V0z\" fill=\"none\"/>\n",
              "    <path d=\"M18.56 5.44l.94 2.06.94-2.06 2.06-.94-2.06-.94-.94-2.06-.94 2.06-2.06.94zm-11 1L8.5 8.5l.94-2.06 2.06-.94-2.06-.94L8.5 2.5l-.94 2.06-2.06.94zm10 10l.94 2.06.94-2.06 2.06-.94-2.06-.94-.94-2.06-.94 2.06-2.06.94z\"/><path d=\"M17.41 7.96l-1.37-1.37c-.4-.4-.92-.59-1.43-.59-.52 0-1.04.2-1.43.59L10.3 9.45l-7.72 7.72c-.78.78-.78 2.05 0 2.83L4 21.41c.39.39.9.59 1.41.59.51 0 1.02-.2 1.41-.59l7.78-7.78 2.81-2.81c.8-.78.8-2.07 0-2.86zM5.41 20L4 18.59l7.72-7.72 1.47 1.35L5.41 20z\"/>\n",
              "  </svg>\n",
              "      </button>\n",
              "      \n",
              "  <style>\n",
              "    .colab-df-container {\n",
              "      display:flex;\n",
              "      flex-wrap:wrap;\n",
              "      gap: 12px;\n",
              "    }\n",
              "\n",
              "    .colab-df-convert {\n",
              "      background-color: #E8F0FE;\n",
              "      border: none;\n",
              "      border-radius: 50%;\n",
              "      cursor: pointer;\n",
              "      display: none;\n",
              "      fill: #1967D2;\n",
              "      height: 32px;\n",
              "      padding: 0 0 0 0;\n",
              "      width: 32px;\n",
              "    }\n",
              "\n",
              "    .colab-df-convert:hover {\n",
              "      background-color: #E2EBFA;\n",
              "      box-shadow: 0px 1px 2px rgba(60, 64, 67, 0.3), 0px 1px 3px 1px rgba(60, 64, 67, 0.15);\n",
              "      fill: #174EA6;\n",
              "    }\n",
              "\n",
              "    [theme=dark] .colab-df-convert {\n",
              "      background-color: #3B4455;\n",
              "      fill: #D2E3FC;\n",
              "    }\n",
              "\n",
              "    [theme=dark] .colab-df-convert:hover {\n",
              "      background-color: #434B5C;\n",
              "      box-shadow: 0px 1px 3px 1px rgba(0, 0, 0, 0.15);\n",
              "      filter: drop-shadow(0px 1px 2px rgba(0, 0, 0, 0.3));\n",
              "      fill: #FFFFFF;\n",
              "    }\n",
              "  </style>\n",
              "\n",
              "      <script>\n",
              "        const buttonEl =\n",
              "          document.querySelector('#df-97c7780c-6f67-4ae9-938e-6543d747fa4e button.colab-df-convert');\n",
              "        buttonEl.style.display =\n",
              "          google.colab.kernel.accessAllowed ? 'block' : 'none';\n",
              "\n",
              "        async function convertToInteractive(key) {\n",
              "          const element = document.querySelector('#df-97c7780c-6f67-4ae9-938e-6543d747fa4e');\n",
              "          const dataTable =\n",
              "            await google.colab.kernel.invokeFunction('convertToInteractive',\n",
              "                                                     [key], {});\n",
              "          if (!dataTable) return;\n",
              "\n",
              "          const docLinkHtml = 'Like what you see? Visit the ' +\n",
              "            '<a target=\"_blank\" href=https://colab.research.google.com/notebooks/data_table.ipynb>data table notebook</a>'\n",
              "            + ' to learn more about interactive tables.';\n",
              "          element.innerHTML = '';\n",
              "          dataTable['output_type'] = 'display_data';\n",
              "          await google.colab.output.renderOutput(dataTable, element);\n",
              "          const docLink = document.createElement('div');\n",
              "          docLink.innerHTML = docLinkHtml;\n",
              "          element.appendChild(docLink);\n",
              "        }\n",
              "      </script>\n",
              "    </div>\n",
              "  </div>\n",
              "  "
            ],
            "text/plain": [
              "   Unnamed: 0    city            date  ... humidity  barometer  visibility\n",
              "0           0  Qassim  1 January 2017  ...      64%     1018.0          16\n",
              "1           1  Qassim  1 January 2017  ...      64%     1018.0          16\n",
              "2           2  Qassim  1 January 2017  ...      72%     1019.0          16\n",
              "3           3  Qassim  1 January 2017  ...      72%     1019.0          16\n",
              "4           4  Qassim  1 January 2017  ...      72%     1019.0          16\n",
              "\n",
              "[5 rows x 15 columns]"
            ]
          },
          "metadata": {},
          "execution_count": 3
        }
      ]
    },
    {
      "cell_type": "code",
      "source": [
        "df.info()"
      ],
      "metadata": {
        "colab": {
          "base_uri": "https://localhost:8080/"
        },
        "id": "FJNQQ_tOIIGy",
        "outputId": "b961842f-06cc-4e35-ea3b-3e2bfe3a3be7"
      },
      "execution_count": 4,
      "outputs": [
        {
          "output_type": "stream",
          "name": "stdout",
          "text": [
            "<class 'pandas.core.frame.DataFrame'>\n",
            "RangeIndex: 249023 entries, 0 to 249022\n",
            "Data columns (total 15 columns):\n",
            " #   Column      Non-Null Count   Dtype  \n",
            "---  ------      --------------   -----  \n",
            " 0   Unnamed: 0  249023 non-null  int64  \n",
            " 1   city        249023 non-null  object \n",
            " 2   date        249023 non-null  object \n",
            " 3   time        249023 non-null  object \n",
            " 4   year        249023 non-null  int64  \n",
            " 5   month       249023 non-null  int64  \n",
            " 6   day         249023 non-null  int64  \n",
            " 7   hour        249023 non-null  int64  \n",
            " 8   minute      249023 non-null  int64  \n",
            " 9   weather     249023 non-null  object \n",
            " 10  temp        249023 non-null  int64  \n",
            " 11  wind        249023 non-null  int64  \n",
            " 12  humidity    249006 non-null  object \n",
            " 13  barometer   248951 non-null  float64\n",
            " 14  visibility  249023 non-null  int64  \n",
            "dtypes: float64(1), int64(9), object(5)\n",
            "memory usage: 28.5+ MB\n"
          ]
        }
      ]
    },
    {
      "cell_type": "markdown",
      "source": [
        "## data cleaning\n",
        "\n",
        "---"
      ],
      "metadata": {
        "id": "Jxs98jGJLc39"
      }
    },
    {
      "cell_type": "code",
      "source": [
        "# convert date to datetime type\n",
        "df['date'] = pd.to_datetime(df['date'])"
      ],
      "metadata": {
        "id": "LgvEt376OWXW"
      },
      "execution_count": 22,
      "outputs": []
    },
    {
      "cell_type": "code",
      "source": [
        "# Unnamed: 0 is irrlevent \n",
        "delete_col =['Unnamed: 0']\n",
        "df.drop(delete_col, axis =1 , inplace =True)"
      ],
      "metadata": {
        "id": "NH2ndUVVIIH9"
      },
      "execution_count": 5,
      "outputs": []
    },
    {
      "cell_type": "code",
      "source": [
        "# convert feature humidity to Numerical\n",
        "df['humidity'] = df['humidity'].str.replace('%',' ').astype('float')"
      ],
      "metadata": {
        "id": "snMVblgjIIKJ"
      },
      "execution_count": 6,
      "outputs": []
    },
    {
      "cell_type": "code",
      "source": [
        "# Check duplicate \n",
        "duplicate = df.index.duplicated()\n",
        "print(duplicate.sum())"
      ],
      "metadata": {
        "colab": {
          "base_uri": "https://localhost:8080/"
        },
        "id": "2T55aaSIQCG1",
        "outputId": "125c0b9b-b4d6-4f23-acf8-68c85686d8f8"
      },
      "execution_count": 23,
      "outputs": [
        {
          "output_type": "stream",
          "name": "stdout",
          "text": [
            "0\n"
          ]
        }
      ]
    },
    {
      "cell_type": "code",
      "source": [
        "df.isnull().sum()"
      ],
      "metadata": {
        "colab": {
          "base_uri": "https://localhost:8080/"
        },
        "id": "tTu5SLtQIINm",
        "outputId": "0758d436-5994-4958-b516-161e381abe57"
      },
      "execution_count": 7,
      "outputs": [
        {
          "output_type": "execute_result",
          "data": {
            "text/plain": [
              "city           0\n",
              "date           0\n",
              "time           0\n",
              "year           0\n",
              "month          0\n",
              "day            0\n",
              "hour           0\n",
              "minute         0\n",
              "weather        0\n",
              "temp           0\n",
              "wind           0\n",
              "humidity      17\n",
              "barometer     72\n",
              "visibility     0\n",
              "dtype: int64"
            ]
          },
          "metadata": {},
          "execution_count": 7
        }
      ]
    },
    {
      "cell_type": "markdown",
      "source": [
        "Dealing with missing values"
      ],
      "metadata": {
        "id": "dnOGNZGGLqVP"
      }
    },
    {
      "cell_type": "code",
      "source": [
        "#   OR\n",
        "# drop null in rows \n",
        "#df = df.dropna()\n",
        "#df.isnull().sum()"
      ],
      "metadata": {
        "id": "ginag0ARPw5T"
      },
      "execution_count": null,
      "outputs": []
    },
    {
      "cell_type": "code",
      "source": [
        "# now filling the missing values with means for each city\n",
        "df['humidity'] = df['humidity'].fillna(df.groupby('city')['humidity'].transform('mean'))\n"
      ],
      "metadata": {
        "id": "NVhNaRcLIIUY"
      },
      "execution_count": 8,
      "outputs": []
    },
    {
      "cell_type": "code",
      "source": [
        "df['barometer'] = df['barometer'].fillna(df.groupby('city')['barometer'].transform('mean'))"
      ],
      "metadata": {
        "id": "Xp34og3OIIXy"
      },
      "execution_count": 9,
      "outputs": []
    },
    {
      "cell_type": "code",
      "source": [
        "df.isnull().sum()"
      ],
      "metadata": {
        "colab": {
          "base_uri": "https://localhost:8080/"
        },
        "id": "6FZ9g3gnL0ks",
        "outputId": "6e73bed6-9ef3-4a5d-d3d1-fcefba222f86"
      },
      "execution_count": 10,
      "outputs": [
        {
          "output_type": "execute_result",
          "data": {
            "text/plain": [
              "city          0\n",
              "date          0\n",
              "time          0\n",
              "year          0\n",
              "month         0\n",
              "day           0\n",
              "hour          0\n",
              "minute        0\n",
              "weather       0\n",
              "temp          0\n",
              "wind          0\n",
              "humidity      0\n",
              "barometer     0\n",
              "visibility    0\n",
              "dtype: int64"
            ]
          },
          "metadata": {},
          "execution_count": 10
        }
      ]
    },
    {
      "cell_type": "code",
      "source": [
        "df.describe()\n"
      ],
      "metadata": {
        "colab": {
          "base_uri": "https://localhost:8080/",
          "height": 364
        },
        "id": "d79kWoZIL0nY",
        "outputId": "2ab35d4c-eefc-4bdf-8089-950e9a33bf0c"
      },
      "execution_count": 11,
      "outputs": [
        {
          "output_type": "execute_result",
          "data": {
            "text/html": [
              "\n",
              "  <div id=\"df-76cd80f1-5c86-4567-a778-3ff9eb553eaf\">\n",
              "    <div class=\"colab-df-container\">\n",
              "      <div>\n",
              "<style scoped>\n",
              "    .dataframe tbody tr th:only-of-type {\n",
              "        vertical-align: middle;\n",
              "    }\n",
              "\n",
              "    .dataframe tbody tr th {\n",
              "        vertical-align: top;\n",
              "    }\n",
              "\n",
              "    .dataframe thead th {\n",
              "        text-align: right;\n",
              "    }\n",
              "</style>\n",
              "<table border=\"1\" class=\"dataframe\">\n",
              "  <thead>\n",
              "    <tr style=\"text-align: right;\">\n",
              "      <th></th>\n",
              "      <th>year</th>\n",
              "      <th>month</th>\n",
              "      <th>day</th>\n",
              "      <th>hour</th>\n",
              "      <th>minute</th>\n",
              "      <th>temp</th>\n",
              "      <th>wind</th>\n",
              "      <th>humidity</th>\n",
              "      <th>barometer</th>\n",
              "      <th>visibility</th>\n",
              "    </tr>\n",
              "  </thead>\n",
              "  <tbody>\n",
              "    <tr>\n",
              "      <th>count</th>\n",
              "      <td>249023.000000</td>\n",
              "      <td>249023.000000</td>\n",
              "      <td>249023.000000</td>\n",
              "      <td>249023.000000</td>\n",
              "      <td>249023.000000</td>\n",
              "      <td>249023.000000</td>\n",
              "      <td>249023.000000</td>\n",
              "      <td>249023.000000</td>\n",
              "      <td>249023.000000</td>\n",
              "      <td>249023.000000</td>\n",
              "    </tr>\n",
              "    <tr>\n",
              "      <th>mean</th>\n",
              "      <td>2017.710007</td>\n",
              "      <td>6.050694</td>\n",
              "      <td>15.691081</td>\n",
              "      <td>12.536890</td>\n",
              "      <td>0.131108</td>\n",
              "      <td>24.722624</td>\n",
              "      <td>12.957104</td>\n",
              "      <td>37.553192</td>\n",
              "      <td>1015.454041</td>\n",
              "      <td>11.053453</td>\n",
              "    </tr>\n",
              "    <tr>\n",
              "      <th>std</th>\n",
              "      <td>0.706113</td>\n",
              "      <td>3.521591</td>\n",
              "      <td>8.787958</td>\n",
              "      <td>6.910254</td>\n",
              "      <td>1.970710</td>\n",
              "      <td>8.880913</td>\n",
              "      <td>8.711619</td>\n",
              "      <td>23.592329</td>\n",
              "      <td>6.970366</td>\n",
              "      <td>7.053005</td>\n",
              "    </tr>\n",
              "    <tr>\n",
              "      <th>min</th>\n",
              "      <td>2017.000000</td>\n",
              "      <td>1.000000</td>\n",
              "      <td>1.000000</td>\n",
              "      <td>1.000000</td>\n",
              "      <td>0.000000</td>\n",
              "      <td>-4.000000</td>\n",
              "      <td>-1.000000</td>\n",
              "      <td>0.000000</td>\n",
              "      <td>904.000000</td>\n",
              "      <td>-1.000000</td>\n",
              "    </tr>\n",
              "    <tr>\n",
              "      <th>25%</th>\n",
              "      <td>2017.000000</td>\n",
              "      <td>3.000000</td>\n",
              "      <td>8.000000</td>\n",
              "      <td>7.000000</td>\n",
              "      <td>0.000000</td>\n",
              "      <td>18.000000</td>\n",
              "      <td>7.000000</td>\n",
              "      <td>17.000000</td>\n",
              "      <td>1011.000000</td>\n",
              "      <td>5.000000</td>\n",
              "    </tr>\n",
              "    <tr>\n",
              "      <th>50%</th>\n",
              "      <td>2018.000000</td>\n",
              "      <td>6.000000</td>\n",
              "      <td>16.000000</td>\n",
              "      <td>13.000000</td>\n",
              "      <td>0.000000</td>\n",
              "      <td>24.000000</td>\n",
              "      <td>11.000000</td>\n",
              "      <td>32.000000</td>\n",
              "      <td>1016.000000</td>\n",
              "      <td>16.000000</td>\n",
              "    </tr>\n",
              "    <tr>\n",
              "      <th>75%</th>\n",
              "      <td>2018.000000</td>\n",
              "      <td>9.000000</td>\n",
              "      <td>23.000000</td>\n",
              "      <td>19.000000</td>\n",
              "      <td>0.000000</td>\n",
              "      <td>31.000000</td>\n",
              "      <td>19.000000</td>\n",
              "      <td>55.000000</td>\n",
              "      <td>1021.000000</td>\n",
              "      <td>16.000000</td>\n",
              "    </tr>\n",
              "    <tr>\n",
              "      <th>max</th>\n",
              "      <td>2019.000000</td>\n",
              "      <td>12.000000</td>\n",
              "      <td>31.000000</td>\n",
              "      <td>24.000000</td>\n",
              "      <td>59.000000</td>\n",
              "      <td>50.000000</td>\n",
              "      <td>163.000000</td>\n",
              "      <td>100.000000</td>\n",
              "      <td>1101.000000</td>\n",
              "      <td>161.000000</td>\n",
              "    </tr>\n",
              "  </tbody>\n",
              "</table>\n",
              "</div>\n",
              "      <button class=\"colab-df-convert\" onclick=\"convertToInteractive('df-76cd80f1-5c86-4567-a778-3ff9eb553eaf')\"\n",
              "              title=\"Convert this dataframe to an interactive table.\"\n",
              "              style=\"display:none;\">\n",
              "        \n",
              "  <svg xmlns=\"http://www.w3.org/2000/svg\" height=\"24px\"viewBox=\"0 0 24 24\"\n",
              "       width=\"24px\">\n",
              "    <path d=\"M0 0h24v24H0V0z\" fill=\"none\"/>\n",
              "    <path d=\"M18.56 5.44l.94 2.06.94-2.06 2.06-.94-2.06-.94-.94-2.06-.94 2.06-2.06.94zm-11 1L8.5 8.5l.94-2.06 2.06-.94-2.06-.94L8.5 2.5l-.94 2.06-2.06.94zm10 10l.94 2.06.94-2.06 2.06-.94-2.06-.94-.94-2.06-.94 2.06-2.06.94z\"/><path d=\"M17.41 7.96l-1.37-1.37c-.4-.4-.92-.59-1.43-.59-.52 0-1.04.2-1.43.59L10.3 9.45l-7.72 7.72c-.78.78-.78 2.05 0 2.83L4 21.41c.39.39.9.59 1.41.59.51 0 1.02-.2 1.41-.59l7.78-7.78 2.81-2.81c.8-.78.8-2.07 0-2.86zM5.41 20L4 18.59l7.72-7.72 1.47 1.35L5.41 20z\"/>\n",
              "  </svg>\n",
              "      </button>\n",
              "      \n",
              "  <style>\n",
              "    .colab-df-container {\n",
              "      display:flex;\n",
              "      flex-wrap:wrap;\n",
              "      gap: 12px;\n",
              "    }\n",
              "\n",
              "    .colab-df-convert {\n",
              "      background-color: #E8F0FE;\n",
              "      border: none;\n",
              "      border-radius: 50%;\n",
              "      cursor: pointer;\n",
              "      display: none;\n",
              "      fill: #1967D2;\n",
              "      height: 32px;\n",
              "      padding: 0 0 0 0;\n",
              "      width: 32px;\n",
              "    }\n",
              "\n",
              "    .colab-df-convert:hover {\n",
              "      background-color: #E2EBFA;\n",
              "      box-shadow: 0px 1px 2px rgba(60, 64, 67, 0.3), 0px 1px 3px 1px rgba(60, 64, 67, 0.15);\n",
              "      fill: #174EA6;\n",
              "    }\n",
              "\n",
              "    [theme=dark] .colab-df-convert {\n",
              "      background-color: #3B4455;\n",
              "      fill: #D2E3FC;\n",
              "    }\n",
              "\n",
              "    [theme=dark] .colab-df-convert:hover {\n",
              "      background-color: #434B5C;\n",
              "      box-shadow: 0px 1px 3px 1px rgba(0, 0, 0, 0.15);\n",
              "      filter: drop-shadow(0px 1px 2px rgba(0, 0, 0, 0.3));\n",
              "      fill: #FFFFFF;\n",
              "    }\n",
              "  </style>\n",
              "\n",
              "      <script>\n",
              "        const buttonEl =\n",
              "          document.querySelector('#df-76cd80f1-5c86-4567-a778-3ff9eb553eaf button.colab-df-convert');\n",
              "        buttonEl.style.display =\n",
              "          google.colab.kernel.accessAllowed ? 'block' : 'none';\n",
              "\n",
              "        async function convertToInteractive(key) {\n",
              "          const element = document.querySelector('#df-76cd80f1-5c86-4567-a778-3ff9eb553eaf');\n",
              "          const dataTable =\n",
              "            await google.colab.kernel.invokeFunction('convertToInteractive',\n",
              "                                                     [key], {});\n",
              "          if (!dataTable) return;\n",
              "\n",
              "          const docLinkHtml = 'Like what you see? Visit the ' +\n",
              "            '<a target=\"_blank\" href=https://colab.research.google.com/notebooks/data_table.ipynb>data table notebook</a>'\n",
              "            + ' to learn more about interactive tables.';\n",
              "          element.innerHTML = '';\n",
              "          dataTable['output_type'] = 'display_data';\n",
              "          await google.colab.output.renderOutput(dataTable, element);\n",
              "          const docLink = document.createElement('div');\n",
              "          docLink.innerHTML = docLinkHtml;\n",
              "          element.appendChild(docLink);\n",
              "        }\n",
              "      </script>\n",
              "    </div>\n",
              "  </div>\n",
              "  "
            ],
            "text/plain": [
              "                year          month  ...      barometer     visibility\n",
              "count  249023.000000  249023.000000  ...  249023.000000  249023.000000\n",
              "mean     2017.710007       6.050694  ...    1015.454041      11.053453\n",
              "std         0.706113       3.521591  ...       6.970366       7.053005\n",
              "min      2017.000000       1.000000  ...     904.000000      -1.000000\n",
              "25%      2017.000000       3.000000  ...    1011.000000       5.000000\n",
              "50%      2018.000000       6.000000  ...    1016.000000      16.000000\n",
              "75%      2018.000000       9.000000  ...    1021.000000      16.000000\n",
              "max      2019.000000      12.000000  ...    1101.000000     161.000000\n",
              "\n",
              "[8 rows x 10 columns]"
            ]
          },
          "metadata": {},
          "execution_count": 11
        }
      ]
    },
    {
      "cell_type": "markdown",
      "source": [
        "## Target\n",
        "---"
      ],
      "metadata": {
        "id": "V8sBPA4uMFNQ"
      }
    },
    {
      "cell_type": "code",
      "source": [
        "df['weather'].unique()\n"
      ],
      "metadata": {
        "colab": {
          "base_uri": "https://localhost:8080/"
        },
        "id": "Cs4jNSnKL0rd",
        "outputId": "a838004d-5b9a-457f-b5d4-2add66616df2"
      },
      "execution_count": 12,
      "outputs": [
        {
          "output_type": "execute_result",
          "data": {
            "text/plain": [
              "array(['Clear ', 'Sunny ', 'Scattered clouds ', 'Partly sunny ',\n",
              "       'Passing clouds ', 'Refreshingly cool ', 'Low level haze ',\n",
              "       'Duststorm ', 'Thunderstorms  Passing clouds ', 'Fog ',\n",
              "       'Thunderstorms  Partly sunny ', 'Light rain  Partly sunny ',\n",
              "       'Dense fog ', 'Thunderstorms  Scattered clouds ',\n",
              "       'Rain  Passing clouds ', 'Extremely hot ', 'Rain  Partly sunny ',\n",
              "       'Pleasantly warm ', 'Hot ', 'Mild ', 'Overcast ',\n",
              "       'Rain  Overcast ', 'Smoke ', 'Thunderstorms  Broken clouds ',\n",
              "       'Heavy rain  Partly sunny ', 'Thunderstorms  Overcast ',\n",
              "       'Light rain  Overcast ', 'Warm ', 'Thunderstorms  Cloudy ',\n",
              "       'Drizzle  Overcast ', 'Thunderstorms  Partly cloudy ',\n",
              "       'Broken clouds ', 'Sandstorm ', 'Partly cloudy ', 'Mostly cloudy ',\n",
              "       'Rain  Partly cloudy ', 'Rain  Broken clouds ',\n",
              "       'Rain  Scattered clouds ', 'Haze ', 'Rain  Mostly cloudy ',\n",
              "       'Hail  Partly sunny ', 'Thundershowers  Passing clouds ',\n",
              "       'Thunderstorms  More clouds than sun ', 'More clouds than sun ',\n",
              "       'Light rain  Partly cloudy ', 'Light rain  Mostly cloudy ',\n",
              "       'Drizzle  Mostly cloudy ', 'Drizzle  Partly sunny ',\n",
              "       'Light rain  Broken clouds ', 'Thunderstorms  Mostly cloudy ',\n",
              "       'Light rain  More clouds than sun ', 'Thunderstorms  Fog ',\n",
              "       'Rain  More clouds than sun ', 'Heavy rain  Mostly cloudy ',\n",
              "       'Heavy rain  More clouds than sun ', 'Light rain  Fog ',\n",
              "       'Strong thunderstorms  More clouds than sun ',\n",
              "       'Light rain  Passing clouds ', 'Cool ',\n",
              "       'Drizzle  More clouds than sun ', 'Drizzle  Fog ',\n",
              "       'Drizzle  Broken clouds ', 'Heavy rain  Overcast ',\n",
              "       'Light rain  Scattered clouds ', 'Cloudy ',\n",
              "       'Strong thunderstorms  Partly sunny ',\n",
              "       'Strong thunderstorms  Cloudy ', 'Hail  Cloudy ',\n",
              "       'Thunderstorms  Sandstorm ', 'Sprinkles  Cloudy ',\n",
              "       'Sprinkles  Overcast ', 'Sprinkles  Duststorm ', 'Rain  Clear ',\n",
              "       'Sprinkles  Low level haze ', 'Thundershowers  Partly sunny ',\n",
              "       'Thundershowers  Scattered clouds ', 'Hail  Passing clouds ',\n",
              "       'Drizzle  Dense fog ', 'Rain showers  Partly sunny ',\n",
              "       'Rain  Sandstorm ', 'Rain  Fog '], dtype=object)"
            ]
          },
          "metadata": {},
          "execution_count": 12
        }
      ]
    },
    {
      "cell_type": "code",
      "source": [
        "plt.figure(figsize=(10,10))\n",
        "df['weather'].value_counts().head(15).plot(kind='bar')\n",
        "\n",
        "plt.title('15 most common weathers in Saudi Arabia')\n",
        "plt.show()"
      ],
      "metadata": {
        "colab": {
          "base_uri": "https://localhost:8080/",
          "height": 756
        },
        "id": "iIqllimhL0tQ",
        "outputId": "15e757d9-f23d-4e24-aa47-da72f3ac79fe"
      },
      "execution_count": 14,
      "outputs": [
        {
          "output_type": "display_data",
          "data": {
            "image/png": "[encoded data removed]",
            "text/plain": [
              "<Figure size 720x720 with 1 Axes>"
            ]
          },
          "metadata": {
            "needs_background": "light"
          }
        }
      ]
    },
    {
      "cell_type": "markdown",
      "source": [
        "Clear and Sunny are most common weatehrs conditions in Saudi Arabia."
      ],
      "metadata": {
        "id": "yCKUBwl0M121"
      }
    },
    {
      "cell_type": "code",
      "source": [
        "plt.figure(figsize=(15, 10))\n",
        "sns.distplot(df['temp'],bins=[i for i in range(0,61,5)], kde=False)\n",
        "plt.title(\"Distribution of Temperatures\")\n",
        "plt.grid();\n"
      ],
      "metadata": {
        "colab": {
          "base_uri": "https://localhost:8080/",
          "height": 676
        },
        "id": "O7AEHm_cL0xa",
        "outputId": "7633decf-4469-48e9-bcec-e25e0213c52f"
      },
      "execution_count": 21,
      "outputs": [
        {
          "output_type": "stream",
          "name": "stderr",
          "text": [
            "/usr/local/lib/python3.7/dist-packages/seaborn/distributions.py:2619: FutureWarning: `distplot` is a deprecated function and will be removed in a future version. Please adapt your code to use either `displot` (a figure-level function with similar flexibility) or `histplot` (an axes-level function for histograms).\n",
            "  warnings.warn(msg, FutureWarning)\n"
          ]
        },
        {
          "output_type": "display_data",
          "data": {
            "image/png": "[encoded data removed]",
            "text/plain": [
              "<Figure size 1080x720 with 1 Axes>"
            ]
          },
          "metadata": {
            "needs_background": "light"
          }
        }
      ]
    },
    {
      "cell_type": "markdown",
      "source": [
        "Most common temperature scale in Saudi Arabia is from 20 to 25 degree."
      ],
      "metadata": {
        "id": "bH6X3XKiOBdf"
      }
    },
    {
      "cell_type": "code",
      "source": [
        "df.wind.plot(kind = 'line', color = \"blue\", label = \"wind\", figsize = (15,8),\n",
        "                        linewidth = 1, alpha = 0.5, grid = True, linestyle = \"-\")\n",
        "\n",
        "df.temp.plot(kind = 'line', color = \"blue\", label = \"temp\", figsize = (15,8),\n",
        "                            linewidth = 1, alpha = 1, grid = True, linestyle = \"-\")\n",
        "plt.legend()\n",
        "plt.xlabel(\"X-axis\")\n",
        "plt.ylabel(\"Y-axis\")\n",
        "plt.title(\"Line Plot\")\n",
        "plt.show()"
      ],
      "metadata": {
        "colab": {
          "base_uri": "https://localhost:8080/",
          "height": 513
        },
        "id": "WePbj4hyL00c",
        "outputId": "49a2394b-4831-43b6-abab-fbf58587a14f"
      },
      "execution_count": 29,
      "outputs": [
        {
          "output_type": "display_data",
          "data": {
            "image/png": "[encoded data removed]",
            "text/plain": [
              "<Figure size 1080x576 with 1 Axes>"
            ]
          },
          "metadata": {
            "needs_background": "light"
          }
        }
      ]
    },
    {
      "cell_type": "markdown",
      "source": [
        "## Time Series Analysis\n",
        "\n",
        "---\n"
      ],
      "metadata": {
        "id": "Huu5GJLnQwwp"
      }
    },
    {
      "cell_type": "code",
      "source": [
        ""
      ],
      "metadata": {
        "id": "tXtKHRDxQyPH"
      },
      "execution_count": null,
      "outputs": []
    }
  ]
}